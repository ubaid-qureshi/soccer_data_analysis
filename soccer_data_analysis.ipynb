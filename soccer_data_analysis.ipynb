{
 "cells": [
  {
   "cell_type": "markdown",
   "metadata": {},
   "source": [
    "# Soccer Data Analysis"
   ]
  },
  {
   "cell_type": "markdown",
   "metadata": {},
   "source": [
    "### Answered 5 questions which are normally asked in every new season\n",
    "\n",
    "Q1) List of European **Strikers** any club can purchase in jan' 17  to get instant boost good enough to get silverware<br>\n",
    "Q2) List of European **Defenders** any club can purchase purchase in jan' 17  to get instant boost good enough to get silverware<br>\n",
    "Q3) List of European **Goal Keepers** any club can purchase purchase in jan' 17  to get instant boost good enough to get silverware<br>\n",
    "Q4) Which **leagues** have the best home advantage and home fan entertainment<br>\n",
    "Q5) Which **Teams** are best in entertaining their home fans\n",
    "\n",
    "We used kaggle database to get european football dataset from 2008-2016\n",
    "[European Soccer Database](https://www.kaggle.com/hugomathien/soccer)\n"
   ]
  },
  {
   "cell_type": "code",
   "execution_count": 43,
   "metadata": {},
   "outputs": [],
   "source": [
    "import pandas as pd\n",
    "import numpy as np\n",
    "import sqlite3\n",
    "import pprint\n",
    "pp = pprint.PrettyPrinter()"
   ]
  },
  {
   "cell_type": "code",
   "execution_count": 44,
   "metadata": {},
   "outputs": [],
   "source": [
    "data = sqlite3.connect('database.sqlite')"
   ]
  },
  {
   "cell_type": "code",
   "execution_count": 45,
   "metadata": {},
   "outputs": [],
   "source": [
    "match = pd.read_sql(\"SELECT * FROM Match\", data)\n",
    "match_df = pd.DataFrame(match)\n",
    "\n",
    "league = pd.read_sql(\"SELECT * FROM League\", data)\n",
    "league_df = pd.DataFrame(league)\n",
    "\n",
    "match_details_df = pd.merge(match_df, league_df, on='country_id', how='outer')\n",
    "\n",
    "player_attributes = pd.read_sql(\"SELECT * FROM Player_Attributes\", data)\n",
    "player_attributes_df = pd.DataFrame(player_attributes)\n",
    "\n",
    "player = pd.read_sql(\"SELECT * FROM Player\", data)\n",
    "player_df = pd.DataFrame(player)\n",
    "\n",
    "player_total_df = pd.merge(player_df, player_attributes, on='player_api_id', how='outer')"
   ]
  },
  {
   "cell_type": "markdown",
   "metadata": {},
   "source": [
    "Since API id was same in table \"Match\" and table \"Team\"\n",
    "but the problem was name of both the columns were different, So column name is supposed to rename so that I can merge them with api id as same column name in both tables"
   ]
  },
  {
   "cell_type": "code",
   "execution_count": 46,
   "metadata": {},
   "outputs": [],
   "source": [
    "team = pd.read_sql(\"SELECT * FROM Team\", data)\n",
    "team_df = pd.DataFrame(team)\n",
    "\n",
    "new_col = match_df.columns.values\n",
    "new_col[7] = 'team_api_id'\n",
    "match_df.columns = new_col\n",
    "team_total_df = pd.merge(team_df,match_df, on='team_api_id', how='outer')"
   ]
  },
  {
   "cell_type": "code",
   "execution_count": 47,
   "metadata": {},
   "outputs": [],
   "source": [
    "# cleaning data types\n",
    "player_attributes_df['date'] = pd.to_datetime(player_attributes_df['date'])"
   ]
  },
  {
   "cell_type": "markdown",
   "metadata": {},
   "source": [
    "### Taking players who performed well recently as per 2016\n",
    "Since we are suppossed to find the best players to purchase as per 2017 transfer window (since the data we have is upto 2016)\n",
    "primary condition noticed as per purchase is that the player must be in his top most form in recent days, Player attribute table had the details for every year so we considered players according to their 2016 form"
   ]
  },
  {
   "cell_type": "code",
   "execution_count": 48,
   "metadata": {},
   "outputs": [],
   "source": [
    "def pick_year(x):\n",
    "    #y = datetime.strptime(x, '%Y %m %d %I:%M%:%S' )\n",
    "    z = str(x).split('-')[0]\n",
    "    return int(z)"
   ]
  },
  {
   "cell_type": "markdown",
   "metadata": {},
   "source": [
    "### correcting data frame\n",
    "Since player names are repeated we took most recent player attributes, we created datframes with unique players(with player id not with player names, since many players have common names)"
   ]
  },
  {
   "cell_type": "code",
   "execution_count": 49,
   "metadata": {},
   "outputs": [],
   "source": [
    "player_attributes_df = player_attributes_df.sort_values(by='date')\n",
    "player_attributes_df = player_attributes_df.drop(player_attributes_df[player_attributes_df['date'].map(pick_year)\n",
    "                                                                      != 2016].index)"
   ]
  },
  {
   "cell_type": "code",
   "execution_count": 50,
   "metadata": {},
   "outputs": [],
   "source": [
    "def arranging_data(s,l):\n",
    "    for x in l:\n",
    "        if x not in s:\n",
    "            s.append(x)\n",
    "            if len(s) == 10:\n",
    "                return s"
   ]
  },
  {
   "cell_type": "markdown",
   "metadata": {},
   "source": [
    "10 European Strikers any club shall purchase in jan' 17 to get instant boost good enough to get silverware"
   ]
  },
  {
   "cell_type": "code",
   "execution_count": 51,
   "metadata": {},
   "outputs": [
    {
     "name": "stdout",
     "output_type": "stream",
     "text": [
      "Best strikers to purchase for european football in 2017 transfer window\n",
      "['Cristiano Ronaldo',\n",
      " 'Wayne Rooney',\n",
      " 'Didier Drogba',\n",
      " 'Fernando Torres',\n",
      " 'Luis Suarez',\n",
      " 'Andriy Shevchenko',\n",
      " 'Zlatan Ibrahimovic',\n",
      " 'David Villa',\n",
      " 'Carlos Tevez',\n",
      " 'Diego Milito']\n",
      "\n"
     ]
    }
   ],
   "source": [
    "# best attacking players in europe according to their gameplay and personal abilities\n",
    "player_total_df['attack_grade'] = player_total_df[['finishing', 'shot_power', 'acceleration', 'aggression', 'stamina',\n",
    "                                                   'agility', 'positioning', 'strength', 'volleys', 'curve',\n",
    "                                                   'heading_accuracy', 'dribbling']].mean(axis=1)\n",
    "player_total_df_attack_grade = player_total_df.sort_values(by=['attack_grade'], ascending=False)\n",
    "\n",
    "list_attacker = []\n",
    "print('Best strikers to purchase for european football in 2017 transfer window')\n",
    "pp.pprint(arranging_data(list_attacker,player_total_df_attack_grade['player_name']))\n",
    "print('')"
   ]
  },
  {
   "cell_type": "markdown",
   "metadata": {},
   "source": [
    "10 European Defenders any club shall purchase in jan' 17 to get instant boost good enough to get silverware"
   ]
  },
  {
   "cell_type": "code",
   "execution_count": 52,
   "metadata": {},
   "outputs": [
    {
     "name": "stdout",
     "output_type": "stream",
     "text": [
      "Best defenders to purchase for european football in 2017 transfer window\n",
      "['Michael Essien',\n",
      " 'Pavel Nedved',\n",
      " 'Esteban Cambiasso',\n",
      " 'Philipp Lahm',\n",
      " 'Daniel Alves',\n",
      " 'Daniele De Rossi',\n",
      " 'Maicon',\n",
      " 'Cesc Fabregas',\n",
      " 'Arturo Vidal',\n",
      " 'Radja Nainggolan']\n",
      "\n"
     ]
    }
   ],
   "source": [
    "# best defencive player to purchase in 2017 for european soccer according to their gameplay and personal abilities\n",
    "player_total_df['defence_grade'] = player_total_df[['interceptions', 'marking', 'standing_tackle', 'sliding_tackle',\n",
    "                                                    'long_shots', 'reactions', 'agility', 'jumping', 'stamina',\n",
    "                                                    'long_passing', 'short_passing', 'interceptions', 'vision',\n",
    "                                                    'positioning', 'agility']].mean(axis=1)\n",
    "player_total_df_defence_grade = player_total_df.sort_values(by=['defence_grade'], ascending=False)\n",
    "\n",
    "list_defender = []\n",
    "print('Best defenders to purchase for european football in 2017 transfer window')\n",
    "pp.pprint(arranging_data(list_defender,player_total_df_defence_grade['player_name']))\n",
    "print('')"
   ]
  },
  {
   "cell_type": "markdown",
   "metadata": {},
   "source": [
    "10 European Goal keeper any club shall purchase in jan' 17 to get instant boost good enough to get silverware"
   ]
  },
  {
   "cell_type": "code",
   "execution_count": 53,
   "metadata": {},
   "outputs": [
    {
     "name": "stdout",
     "output_type": "stream",
     "text": [
      "Best goal keeper to purchase for european football in 2017 transfer window\n",
      "['Gianluigi Buffon',\n",
      " 'Jens Lehmann',\n",
      " 'Robert Enke,30',\n",
      " 'Julio Cesar',\n",
      " 'Iker Casillas',\n",
      " 'Petr Cech',\n",
      " 'Vladimir Stojkovic',\n",
      " 'Manuel Neuer',\n",
      " 'Maarten Stekelenburg',\n",
      " 'Francesco Toldo']\n",
      "\n"
     ]
    }
   ],
   "source": [
    "# best goalkeeper to purchase in europe according to their gameplay and personal abilities\n",
    "player_total_df['gk_grade'] = player_total_df[['potential', 'agility', 'reactions','balance', 'gk_kicking',\n",
    "                                               'gk_diving','gk_reflexes','gk_handling', 'gk_positioning']].mean(axis=1)\n",
    "player_total_df_gk_grade = player_total_df.sort_values(by=['gk_grade'], ascending=False)\n",
    "\n",
    "list_gk = []\n",
    "print('Best goal keeper to purchase for european football in 2017 transfer window')\n",
    "pp.pprint(arranging_data(list_gk, player_total_df_gk_grade['player_name']))\n",
    "print('')"
   ]
  },
  {
   "cell_type": "markdown",
   "metadata": {},
   "source": [
    "leagues which have best home advantage"
   ]
  },
  {
   "cell_type": "code",
   "execution_count": 54,
   "metadata": {},
   "outputs": [
    {
     "name": "stdout",
     "output_type": "stream",
     "text": [
      "European leagues where home ground effect is maximum\n",
      "9              Spain LIGA BBVA\n",
      "5       Netherlands Eredivisie\n",
      "0       Belgium Jupiler League\n",
      "10    Switzerland Super League\n",
      "1       England Premier League\n",
      "Name: name, dtype: object\n",
      "\n"
     ]
    }
   ],
   "source": [
    "match_details_df_league = match_details_df.groupby('league_id')\n",
    "\n",
    "home_away_goal_diff = match_details_df_league['home_team_goal'].mean() - match_details_df_league['away_team_goal'].mean()\n",
    "league_df['home_away_goal_diff'] = [i for i in home_away_goal_diff]\n",
    "\n",
    "print('European leagues where home ground effect is maximum')\n",
    "print(league_df.sort_values(by='home_away_goal_diff', ascending = False).iloc[:5]['name'])\n",
    "print(\"\")"
   ]
  },
  {
   "cell_type": "markdown",
   "metadata": {},
   "source": [
    "Teams that are best in entertaining their home fans"
   ]
  },
  {
   "cell_type": "code",
   "execution_count": 55,
   "metadata": {},
   "outputs": [
    {
     "name": "stdout",
     "output_type": "stream",
     "text": [
      "European teams where home ground effect is maximum\n",
      "141              Lecce\n",
      "140             Torino\n",
      "191        Lech Poznań\n",
      "131    Reggio Calabria\n",
      "233            Tondela\n",
      "174       RKC Waalwijk\n",
      "175          VVV-Venlo\n",
      "145            Livorno\n",
      "114    1. FSV Mainz 05\n",
      "142            Udinese\n",
      "Name: team_long_name, dtype: object\n",
      "\n"
     ]
    }
   ],
   "source": [
    "match_details_df_team = team_total_df.groupby('team_api_id')\n",
    "home_away_goal_diff_team = match_details_df_team['home_team_goal'].mean() - match_details_df_team['away_team_goal'].mean()\n",
    "team_df['home_away_goal_diff'] = [i for i in home_away_goal_diff_team]\n",
    "team_df = team_df.sort_values(by='home_away_goal_diff', ascending = False)\n",
    "\n",
    "print('European teams where home ground effect is maximum')\n",
    "print(team_df.iloc[:10]['team_long_name'])\n",
    "print(\"\")"
   ]
  },
  {
   "cell_type": "code",
   "execution_count": null,
   "metadata": {},
   "outputs": [],
   "source": []
  }
 ],
 "metadata": {
  "kernelspec": {
   "display_name": "Python 3",
   "language": "python",
   "name": "python3"
  },
  "language_info": {
   "codemirror_mode": {
    "name": "ipython",
    "version": 3
   },
   "file_extension": ".py",
   "mimetype": "text/x-python",
   "name": "python",
   "nbconvert_exporter": "python",
   "pygments_lexer": "ipython3",
   "version": "3.6.3"
  }
 },
 "nbformat": 4,
 "nbformat_minor": 2
}
